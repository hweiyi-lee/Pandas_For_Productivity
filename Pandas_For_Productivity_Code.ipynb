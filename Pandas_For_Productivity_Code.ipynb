{
 "cells": [
  {
   "cell_type": "code",
   "execution_count": null,
   "metadata": {},
   "outputs": [],
   "source": [
    "# Import the necessary Python libraries for data analysis\n",
    "# Numpy allows you to do math on vectors (columns of data) and matrices (tables of data) without writing loops\n",
    "import numpy as np\n",
    "# Pandas allows you to read in data as Series and DataFrame, and calls Numpy to make calculations on these.\n",
    "import pandas as pd\n",
    "\n",
    "# Matplotlib allows you to create plots of your data, and seaborn enhances the aesthetics and creates more plot options\n",
    "import matplotlib.pyplot as plt\n",
    "import seaborn as sns\n",
    "\n",
    "# This magic function creates plots that look aesthetically pleasing in your Jupyter notebook\n",
    "%matplotlib inline"
   ]
  },
  {
   "cell_type": "code",
   "execution_count": null,
   "metadata": {},
   "outputs": [],
   "source": [
    "# This function takes in a DataFrame whose column names are in all lowercase, and words are split with underscores.\n",
    "# It then makes the column names human-friendly by replacing the underscores with spacings, and capitalizing the first\n",
    "# word in each column name.\n",
    "# The argument (input) to this function is a DataFrame, denoted by df. The output is the same DataFrame, with the \n",
    "# column names reformatted.\n",
    "\n",
    "def space_and_caps(df):\n",
    "    # Convert the columns attribute of the DataFrame from an index to a list.\n",
    "    column_namelist = list(df.columns)\n",
    "    # Split up each word in the columns individually, and capitalize them.\n",
    "    col_words = [[word.capitalize() for word in item.split(\"_\")] for item in column_namelist]\n",
    "    # String the words back together with a space between the words.\n",
    "    col_words = [(\" \").join(word_list) for word_list in col_words]\n",
    "    # Replace the columns \n",
    "    df.columns = col_words\n",
    "    return df"
   ]
  }
 ],
 "metadata": {
  "kernelspec": {
   "display_name": "Python 3",
   "language": "python",
   "name": "python3"
  },
  "language_info": {
   "codemirror_mode": {
    "name": "ipython",
    "version": 3
   },
   "file_extension": ".py",
   "mimetype": "text/x-python",
   "name": "python",
   "nbconvert_exporter": "python",
   "pygments_lexer": "ipython3",
   "version": "3.7.6"
  }
 },
 "nbformat": 4,
 "nbformat_minor": 4
}
