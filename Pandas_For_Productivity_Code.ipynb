{
 "cells": [
  {
   "cell_type": "code",
   "execution_count": null,
   "metadata": {},
   "outputs": [],
   "source": [
    "# Import the necessary Python libraries for data analysis\n",
    "# Numpy allows you to do math on vectors (columns of data) and matrices (tables of data) without writing loops\n",
    "import numpy as np\n",
    "# Pandas allows you to read in data as Series and DataFrame, and calls Numpy to make calculations on these.\n",
    "import pandas as pd\n",
    "\n",
    "# Matplotlib allows you to create plots of your data, and seaborn enhances the aesthetics and creates more plot options\n",
    "import matplotlib.pyplot as plt\n",
    "import seaborn as sns\n",
    "\n",
    "# This magic function creates plots that look aesthetically pleasing in your Jupyter notebook\n",
    "%matplotlib inline"
   ]
  },
  {
   "cell_type": "code",
   "execution_count": null,
   "metadata": {},
   "outputs": [],
   "source": [
    "# This function takes in a DataFrame whose column names are in all lowercase, and words are split with underscores.\n",
    "# It then makes the column names human-friendly by replacing the underscores with spacings, and capitalizing the first\n",
    "# word in each column name.\n",
    "# The argument (input) to this function is a DataFrame, denoted by df. The output is the same DataFrame, with the \n",
    "# column names reformatted.\n",
    "\n",
    "def space_and_caps(df):\n",
    "    # Convert the columns attribute of the DataFrame from an index to a list.\n",
    "    column_namelist = list(df.columns)\n",
    "    # Split up each word in the columns individually, and capitalize them.\n",
    "    col_words = [[word.capitalize() for word in item.split(\"_\")] for item in column_namelist]\n",
    "    # String the words back together with a space between the words.\n",
    "    col_words = [(\" \").join(word_list) for word_list in col_words]\n",
    "    # Replace the columns \n",
    "    df.columns = col_words\n",
    "    return df"
   ]
  },
  {
   "cell_type": "code",
   "execution_count": null,
   "metadata": {},
   "outputs": [],
   "source": [
    "# This function takes in a DataFrame read from a .csv file as its first argument (df).\n",
    "# The second argument, date_col_list, is a list of columns that the user wants to change into datetime format.\n",
    "# The result of the function is the same DataFrame, with the required columns changed to datetimes.\n",
    "\n",
    "def convert_cols_to_datetime(df, date_col_list):\n",
    "    df[date_col_list] = df[date_col_list].apply(lambda x: pd.to_datetime(x))\n",
    "    return df"
   ]
  },
  {
   "cell_type": "code",
   "execution_count": null,
   "metadata": {},
   "outputs": [],
   "source": [
    "# This function takes in a Series with data type datetime64, and returns a Series mapping it to the \n",
    "# day in the current year matching its day of week.\n",
    "# Useful for looking at year-over-year seasonality patterns while also taking into account day-of-week fluctuations.\n",
    "\n",
    "def map_to_current_yr_match_dow(date_col):\n",
    "    # Find the current year\n",
    "    current_year = pd.to_datetime('today').year\n",
    "    # 364 days is the exact number of full 7-day cycles in a year, so this takes any date in a previous\n",
    "    # year and finds the number of full years between that date and this year.\n",
    "    # It then adds 364 * the number of years to get the date in our current year matching its day of week.\n",
    "    new_col = date_col.apply(lambda x: x + pd.DateOffset(days = 364*(current_year - x.year)))\n",
    "    return new_col"
   ]
  }
 ],
 "metadata": {
  "kernelspec": {
   "display_name": "Python 3",
   "language": "python",
   "name": "python3"
  },
  "language_info": {
   "codemirror_mode": {
    "name": "ipython",
    "version": 3
   },
   "file_extension": ".py",
   "mimetype": "text/x-python",
   "name": "python",
   "nbconvert_exporter": "python",
   "pygments_lexer": "ipython3",
   "version": "3.7.6"
  }
 },
 "nbformat": 4,
 "nbformat_minor": 4
}
